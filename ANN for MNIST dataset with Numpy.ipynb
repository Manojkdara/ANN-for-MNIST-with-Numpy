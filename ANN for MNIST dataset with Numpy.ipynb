{
 "cells": [
  {
   "cell_type": "markdown",
   "id": "83c1d89c",
   "metadata": {},
   "source": [
    "# Creating an Artificial Neural Network\n",
    "\n"
   ]
  },
  {
   "cell_type": "markdown",
   "id": "068e4011",
   "metadata": {},
   "source": [
    "### Motivation\n",
    "\n",
    "Our problem we will try to solve is recognizing handwritten numbers. We will use the MNIST dataset. Some additional [info](http://yann.lecun.com/exdb/mnist/) about the data are accessible through the link. To allow easier access to [data](https://pjreddie.com/projects/mnist-in-csv/) available in  above git repository, it is also available as .csv files i"
   ]
  },
  {
   "cell_type": "code",
   "execution_count": 1,
   "id": "01d72d83",
   "metadata": {},
   "outputs": [],
   "source": [
    "import numpy\n",
    "import matplotlib.pyplot\n",
    "%matplotlib inline\n",
    "\n",
    "# open the CSV file and read its contents into a list\n",
    "data_file = open(\"Week11_data_train100.csv\", 'r')\n",
    "data_list = data_file.readlines()\n",
    "data_file.close()"
   ]
  },
  {
   "cell_type": "markdown",
   "id": "cce93f18",
   "metadata": {},
   "source": [
    "So, now we have all the entries in a list, let's take a look how many entries we have, and  which info we get from each element. Here, as an example, we look at the first element of the list:"
   ]
  },
  {
   "cell_type": "code",
   "execution_count": 2,
   "id": "b7fcf8c9",
   "metadata": {},
   "outputs": [
    {
     "name": "stdout",
     "output_type": "stream",
     "text": [
      "The list contains 100 entries\n",
      "5,0,0,0,0,0,0,0,0,0,0,0,0,0,0,0,0,0,0,0,0,0,0,0,0,0,0,0,0,0,0,0,0,0,0,0,0,0,0,0,0,0,0,0,0,0,0,0,0,0,0,0,0,0,0,0,0,0,0,0,0,0,0,0,0,0,0,0,0,0,0,0,0,0,0,0,0,0,0,0,0,0,0,0,0,0,0,0,0,0,0,0,0,0,0,0,0,0,0,0,0,0,0,0,0,0,0,0,0,0,0,0,0,0,0,0,0,0,0,0,0,0,0,0,0,0,0,0,0,0,0,0,0,0,0,0,0,0,0,0,0,0,0,0,0,0,0,0,0,0,0,0,0,3,18,18,18,126,136,175,26,166,255,247,127,0,0,0,0,0,0,0,0,0,0,0,0,30,36,94,154,170,253,253,253,253,253,225,172,253,242,195,64,0,0,0,0,0,0,0,0,0,0,0,49,238,253,253,253,253,253,253,253,253,251,93,82,82,56,39,0,0,0,0,0,0,0,0,0,0,0,0,18,219,253,253,253,253,253,198,182,247,241,0,0,0,0,0,0,0,0,0,0,0,0,0,0,0,0,0,0,80,156,107,253,253,205,11,0,43,154,0,0,0,0,0,0,0,0,0,0,0,0,0,0,0,0,0,0,0,14,1,154,253,90,0,0,0,0,0,0,0,0,0,0,0,0,0,0,0,0,0,0,0,0,0,0,0,0,0,139,253,190,2,0,0,0,0,0,0,0,0,0,0,0,0,0,0,0,0,0,0,0,0,0,0,0,0,11,190,253,70,0,0,0,0,0,0,0,0,0,0,0,0,0,0,0,0,0,0,0,0,0,0,0,0,0,35,241,225,160,108,1,0,0,0,0,0,0,0,0,0,0,0,0,0,0,0,0,0,0,0,0,0,0,0,81,240,253,253,119,25,0,0,0,0,0,0,0,0,0,0,0,0,0,0,0,0,0,0,0,0,0,0,0,45,186,253,253,150,27,0,0,0,0,0,0,0,0,0,0,0,0,0,0,0,0,0,0,0,0,0,0,0,16,93,252,253,187,0,0,0,0,0,0,0,0,0,0,0,0,0,0,0,0,0,0,0,0,0,0,0,0,0,249,253,249,64,0,0,0,0,0,0,0,0,0,0,0,0,0,0,0,0,0,0,0,0,0,46,130,183,253,253,207,2,0,0,0,0,0,0,0,0,0,0,0,0,0,0,0,0,0,0,0,39,148,229,253,253,253,250,182,0,0,0,0,0,0,0,0,0,0,0,0,0,0,0,0,0,0,24,114,221,253,253,253,253,201,78,0,0,0,0,0,0,0,0,0,0,0,0,0,0,0,0,0,23,66,213,253,253,253,253,198,81,2,0,0,0,0,0,0,0,0,0,0,0,0,0,0,0,0,18,171,219,253,253,253,253,195,80,9,0,0,0,0,0,0,0,0,0,0,0,0,0,0,0,0,55,172,226,253,253,253,253,244,133,11,0,0,0,0,0,0,0,0,0,0,0,0,0,0,0,0,0,0,136,253,253,253,212,135,132,16,0,0,0,0,0,0,0,0,0,0,0,0,0,0,0,0,0,0,0,0,0,0,0,0,0,0,0,0,0,0,0,0,0,0,0,0,0,0,0,0,0,0,0,0,0,0,0,0,0,0,0,0,0,0,0,0,0,0,0,0,0,0,0,0,0,0,0,0,0,0,0,0,0,0,0,0,0,0,0,0,0,0,0,0,0,0,0,0,0,0,0,0,0,0,0,0,0,0,0,0\n",
      "\n"
     ]
    }
   ],
   "source": [
    "print(\"The list contains {} entries\".format(len(data_list)))\n",
    "print(data_list[0])"
   ]
  },
  {
   "cell_type": "markdown",
   "id": "49dcd502",
   "metadata": {},
   "source": [
    "The first entry in this string is the number, the rest numbers are represecting the the picture in grayscale. 0 means 100% background, 255 is the most \"ink\" possible.\n",
    "So let us split up the entry in the number and the data and print the image:"
   ]
  },
  {
   "cell_type": "code",
   "execution_count": 3,
   "id": "ea22caeb",
   "metadata": {},
   "outputs": [
    {
     "name": "stdout",
     "output_type": "stream",
     "text": [
      "maximum value of pixel is 255.0\n",
      "minimum value of pixel is 0.0\n",
      "The picture shows a handwritten number 5\n"
     ]
    },
    {
     "data": {
      "text/plain": [
       "<matplotlib.image.AxesImage at 0x7f4d29ec9438>"
      ]
     },
     "execution_count": 3,
     "metadata": {},
     "output_type": "execute_result"
    },
    {
     "data": {
      "image/png": "[encoded data removed]",
      "text/plain": [
       "<Figure size 432x288 with 1 Axes>"
      ]
     },
     "metadata": {
      "needs_background": "light"
     },
     "output_type": "display_data"
    }
   ],
   "source": [
    "line_values = data_list[0].split(',')\n",
    "number = line_values[0]\n",
    "# converting to float type-array\n",
    "pixel_array = numpy.asfarray(line_values[1:])   \n",
    "# to check the minimun and maximum values of pixels\n",
    "maximum = max(pixel_array[1:])\n",
    "minimum = min(pixel_array[1:])\n",
    "print('maximum value of pixel is', maximum)\n",
    "print('minimum value of pixel is', minimum)\n",
    "# make the array as a two dimensional array\n",
    "picture_array = pixel_array.reshape((28,28))\n",
    "# print the information\n",
    "print(f\"The picture shows a handwritten number {number}\")\n",
    "matplotlib.pyplot.imshow(picture_array, cmap='Greys', interpolation='None')"
   ]
  },
  {
   "cell_type": "markdown",
   "id": "02b90da7",
   "metadata": {},
   "source": [
    "## 14.2 Creating a ANN\n",
    "\n",
    "Even if we now want to solve the number recognition problem, let us step back and think about, how we can create a ANN, that can be used for distinguishing/predicting a handwritten number based on its pixel values.\n",
    "\n",
    "Please note, we will use a lot of inheritance in the following steps , so the different parts can be explained individually as a deductive process. Usually it would be implemented in one single class."
   ]
  },
  {
   "cell_type": "markdown",
   "id": "3726c3c4",
   "metadata": {},
   "source": [
    "### Structure\n",
    "\n",
    "If we go back to the last weeks, our simple three layer ANN need the following parts:\n",
    "\n",
    "* A way to define the size (number of nodes/neurons in each layer)\n",
    "* A way to set the learning rate\n",
    "* A way to set the initial weights (randomly)\n",
    "* A way to define the activation function to be used\n",
    "* A way to train the network\n",
    "* A way to query the network (classifying unknown samples)\n",
    "\n",
    "The first four bullet points can be part of the initialization, so the core of the structure could look like this:"
   ]
  },
  {
   "cell_type": "code",
   "execution_count": 4,
   "id": "933b3830",
   "metadata": {},
   "outputs": [],
   "source": [
    "import numpy\n",
    "# scipy.special for the sigmoid function expit()\n",
    "import scipy.special"
   ]
  },
  {
   "cell_type": "code",
   "execution_count": 5,
   "id": "1b19048a",
   "metadata": {},
   "outputs": [],
   "source": [
    "# class definition for the core structure\n",
    "class neuralNetworkCore:\n",
    "    \n",
    "    # initialise the neural network\n",
    "    def __init__(self, inputnodes, hiddennodes, outputnodes, learningrate):\n",
    "        pass\n",
    "\n",
    "    \n",
    "    # train the neural network\n",
    "    def train(self, inputs_list, targets_list):\n",
    "        pass\n",
    "\n",
    "    \n",
    "    # query the neural network\n",
    "    def query(self, inputs_list):\n",
    "        pass"
   ]
  },
  {
   "cell_type": "markdown",
   "id": "f436f866",
   "metadata": {},
   "source": [
    "# Initialization\n",
    "\n",
    "Our new class `neuralNetworkCore` is currently without any functionality. So let us start with the initialization in the `__init__( )` function. It should:\n",
    "\n",
    "* Save the number of nodes in each layer\n",
    "* Save the weight matrices and initialize them (remember week 9: rule of thumb is randomly between 0 and 1/(second root of the number of incomming connections))\n",
    "* Save the learning rate\n",
    "* Save/define the activation function\n",
    "\n",
    "So we extend our `neuralNetworkCore` class and overwrite the `__init__( )` function to actually do something:"
   ]
  },
  {
   "cell_type": "code",
   "execution_count": 6,
   "id": "a3489965",
   "metadata": {},
   "outputs": [],
   "source": [
    "class neuralNetworkInit(neuralNetworkCore):\n",
    "    \n",
    "    \n",
    "    # initialise the neural network\n",
    "    def __init__(self, inputnodes, hiddennodes, outputnodes, learningrate):\n",
    "        # set number of nodes in each input, hidden, output layer\n",
    "        self.inodes = inputnodes\n",
    "        self.hnodes = hiddennodes\n",
    "        self.onodes = outputnodes\n",
    "        \n",
    "        # link weight matrices, wih and who\n",
    "        # weights inside the arrays are w_i_j, where link is from node i to node j in the next layer\n",
    "        # w11 w21\n",
    "        # w12 w22 etc \n",
    "        self.wih = numpy.random.normal(0.0, pow(self.inodes, -0.5), (self.hnodes, self.inodes))\n",
    "        self.who = numpy.random.normal(0.0, pow(self.hnodes, -0.5), (self.onodes, self.hnodes))\n",
    "\n",
    "        # learning rate\n",
    "        self.lr = learningrate\n",
    "        \n",
    "        # here we use sigmoid function as the activation function\n",
    "        self.activation_function = lambda x: scipy.special.expit(x)\n",
    "        \n",
    "        pass\n"
   ]
  },
  {
   "cell_type": "markdown",
   "id": "1b566b28",
   "metadata": {},
   "source": [
    "Storing the number of nodes and the learning rates is just storing the parameters of the `__init__( )` function as object variables.\n",
    "\n",
    "For creating the weight matrices, first let's take a look at the [documentation](https://numpy.org/doc/stable/reference/random/generated/numpy.random.normal.html). In each line we get from Numpy a two-dimensional array (size defined by the number of nodes involved in the two layers) with normal distributed numbers. Center of the normal distribution is 0 and the limits are the square root of the number of incomming links, positiv and negative.\n",
    "Why also negativ numbers?  The sigmoid function is also defined for negative numbers, and a negative influence can help a ANN (tink about it like a boolean \"not\" function).\n",
    "There is a tiny risk, that a weight get randomly assigned the exact value of zero, but it is so small, we didn't handle this corner case.\n",
    "\n",
    "And for the activation function, we use a lambda function."
   ]
  },
  {
   "cell_type": "markdown",
   "id": "55e2bed4",
   "metadata": {},
   "source": [
    "### Query\n",
    "\n",
    "Our class/objects are now initialized correctly, but has no functionality.\n",
    "Like in the lecture let us first talk about the query method. For the query we need to do:\n",
    "\n",
    "* Make sure the inputs are in vector/matrix form\n",
    "* Apply matrix multiplication and the activation function on both relevant layers (input -> hidden; hidden -> output)\n",
    "* Return the output\n",
    "\n",
    "So we extend the `neuralNetworkInit` class and overwrite the currently empty `query` function."
   ]
  },
  {
   "cell_type": "code",
   "execution_count": 7,
   "id": "7692644f",
   "metadata": {},
   "outputs": [],
   "source": [
    "class neuralNetworkQuery(neuralNetworkInit):\n",
    "    \n",
    "    # query the neural network\n",
    "    def query(self, inputs_list):\n",
    "        # convert inputs list to 2d array\n",
    "        inputs = numpy.array(inputs_list, ndmin=2).T\n",
    "        \n",
    "        # calculate signals into hidden layer\n",
    "        hidden_inputs = numpy.dot(self.wih, inputs)\n",
    "        # calculate the signals emerging from hidden layer\n",
    "        hidden_outputs = self.activation_function(hidden_inputs)\n",
    "        \n",
    "        # calculate signals into final output layer\n",
    "        final_inputs = numpy.dot(self.who, hidden_outputs)\n",
    "        # calculate the signals emerging from final output layer\n",
    "        final_outputs = self.activation_function(final_inputs)\n",
    "        \n",
    "        return final_outputs"
   ]
  },
  {
   "cell_type": "markdown",
   "id": "a40ddd0a",
   "metadata": {},
   "source": [
    "Most of the code is quite straightforward the math we know from the lecture. Calculation of the dot-product and applying activation function, repeated two times.\n",
    "But the first command in this function, converting the inputs into a matrix that can be used for the dot product might not be clear. But it is relativly simple:\n",
    "\n",
    "* The call to [numpy.arrray](https://numpy.org/doc/stable/reference/generated/numpy.array.html) converts the Python list into a numpy array object\n",
    "* The parameter `ndmin=2` tells the function, to create a two dimentional array (better for matrix multiplication)\n",
    "* The end is calling a `T`ranspose function on the created array object. So we get the values in the right orientation for our math.\n",
    "\n",
    "But one step after the other:"
   ]
  },
  {
   "cell_type": "code",
   "execution_count": 8,
   "id": "a754760c",
   "metadata": {},
   "outputs": [
    {
     "name": "stdout",
     "output_type": "stream",
     "text": [
      "1D array looks like this [0.9 0.1 0.8]\n",
      "2D array looks like this  [[0.9 0.1 0.8]]\n",
      "1D array transposed looks like this [0.9 0.1 0.8]\n",
      "2D array looks like this [[0.9]\n",
      " [0.1]\n",
      " [0.8]]\n"
     ]
    }
   ],
   "source": [
    "# creating a simple array\n",
    "array1D = numpy.array([0.9, 0.1, 0.8])\n",
    "print(f\"1D array looks like this {array1D}\")\n",
    "\n",
    "# create the same with two dimensions\n",
    "array2D = numpy.array([0.9, 0.1, 0.8], ndmin=2)\n",
    "print(f\"2D array looks like this  {array2D}\")\n",
    "\n",
    "# transpose both\n",
    "tArray1D = array1D.T\n",
    "tArray2D = array2D.T\n",
    "\n",
    "print(f\"1D array transposed looks like this {tArray1D}\")\n",
    "print(f\"2D array looks like this {tArray2D}\")\n"
   ]
  },
  {
   "cell_type": "markdown",
   "id": "77242677",
   "metadata": {},
   "source": [
    "Now we have a class that can create objects with given parameters and these objects have a method that query the neural network inside. Let us test that:"
   ]
  },
  {
   "cell_type": "code",
   "execution_count": 9,
   "id": "a3244ab8",
   "metadata": {},
   "outputs": [
    {
     "data": {
      "text/plain": [
       "array([[0.24544971],\n",
       "       [0.64918664],\n",
       "       [0.71282813]])"
      ]
     },
     "execution_count": 9,
     "metadata": {},
     "output_type": "execute_result"
    }
   ],
   "source": [
    "ann = neuralNetworkQuery(3, 3, 3, 0.3)\n",
    "ann.query([-0.3, 2, 0.7])  # inputs_list is the argument which should be passed to query() method"
   ]
  },
  {
   "cell_type": "markdown",
   "id": "342c5313",
   "metadata": {},
   "source": [
    "### Training\n",
    "\n",
    "Our ANN is crrently not very useful for recognitipn purpose, since we have not trained it. To change that we need to overwrite the `train` function. To train the network we need the following steps:\n",
    "\n",
    "* Converting the trainig data (input, expected output) in the expected matrices\n",
    "* Basically running a query with the current weights\n",
    "* Computing the errors for both layer\n",
    "* Updating the weights, using the learning rate to dampen effects.\n",
    "\n",
    "This can result in this code:"
   ]
  },
  {
   "cell_type": "code",
   "execution_count": 10,
   "id": "7e15ba93",
   "metadata": {},
   "outputs": [],
   "source": [
    "class neuralNetworkFinal(neuralNetworkQuery):\n",
    "        \n",
    "    # train the neural network\n",
    "    def train(self, inputs_list, targets_list):\n",
    "        # convert inputs list to 2d array\n",
    "        inputs = numpy.array(inputs_list, ndmin=2).T\n",
    "        targets = numpy.array(targets_list, ndmin=2).T\n",
    "        \n",
    "        # calculate signals into hidden layer\n",
    "        hidden_inputs = numpy.dot(self.wih, inputs)\n",
    "        # calculate the signals emerging from hidden layer\n",
    "        hidden_outputs = self.activation_function(hidden_inputs)\n",
    "        \n",
    "        # calculate signals into final output layer\n",
    "        final_inputs = numpy.dot(self.who, hidden_outputs)\n",
    "        # calculate the signals emerging from final output layer\n",
    "        final_outputs = self.activation_function(final_inputs)\n",
    "        \n",
    "        # output layer error is the (target - actual)\n",
    "        output_errors = targets - final_outputs\n",
    "        # hidden layer error is the output_errors, split by weights, recombined at hidden nodes\n",
    "        hidden_errors = numpy.dot(self.who.T, output_errors) \n",
    "        \n",
    "        # update the weights for the links between the hidden and output layers\n",
    "        self.who += self.lr * numpy.dot((output_errors * final_outputs * (1.0 - final_outputs)), numpy.transpose(hidden_outputs))\n",
    "        \n",
    "        # update the weights for the links between the input and hidden layers\n",
    "        self.wih += self.lr * numpy.dot((hidden_errors * hidden_outputs * (1.0 - hidden_outputs)), numpy.transpose(inputs))\n",
    "        \n",
    "        pass"
   ]
  },
  {
   "cell_type": "markdown",
   "id": "b9103940",
   "metadata": {},
   "source": [
    "From a programming perspective there is not much new to see. Remember the `a += b` is just short for `a = a + b`\n",
    "\n",
    "Now we have a class, which we can use to create arbitrary thre layer ANNs. Number of nodes in each of the three layer and the learning rate can ve choosen at the time we create the object.\n",
    "But to test it, we need some data to train it and later some data to verfify how good it works!"
   ]
  },
  {
   "cell_type": "markdown",
   "id": "394c4d9d",
   "metadata": {},
   "source": [
    "## 14.3 Example: detecting handwritten numbers\n",
    "\n",
    "### Structure of our ANN\n",
    "\n",
    "From todays motivation we know the structure of the data. We have 28x28 pixel size images, and this input is mapped to one number in the range of 0 to 9.\n",
    "\n",
    "#### Input\n",
    "\n",
    "For the input layer the number of required nodes is very simple to determine: 28\\*28=784.\n",
    "The values should be scaled between zero and 1 (zero not included), to avoid that the activation function gets oversaturated easily.\n",
    "\n",
    "#### Output\n",
    "\n",
    "For the output, propably the most logical  approach is one node for each category/number. So that would mean 10 nodes. Each node should represent a number of 0 (not in this category) to 0.99 (nearly 100% sure that it is in this category)\n",
    "\n",
    "**Question:** Can you think of other representation of the output?\n",
    "\n",
    "#### Hidden Layer\n",
    "\n",
    "For the hidden layer there is no clear external indicator what number should be used. We pick something between both extremes. Let us say 200.\n",
    "\n",
    "#### Learning rate\n",
    "\n",
    "Let us just start very slowly, 0.1 sounds good and it is the initial recommended value for Sigmoid function.\n",
    "\n",
    "\n",
    "### Creating the ANN\n",
    "\n",
    "So now we have everything to create the ANN:"
   ]
  },
  {
   "cell_type": "code",
   "execution_count": 11,
   "id": "1ef573cc",
   "metadata": {},
   "outputs": [],
   "source": [
    "# number of input, hidden and output nodes\n",
    "input_nodes = 784\n",
    "hidden_nodes = 200\n",
    "output_nodes = 10\n",
    "\n",
    "# learning rate\n",
    "learning_rate = 0.1\n",
    "\n",
    "# create instance of neural network class\n",
    "n = neuralNetworkFinal(input_nodes,hidden_nodes,output_nodes, learning_rate)"
   ]
  },
  {
   "cell_type": "markdown",
   "id": "8cd4bb21",
   "metadata": {},
   "source": [
    "### Training the ANN\n",
    "\n",
    "To train our recently created Artificial Neural Network object `n` we pass entries available in the `Week11_data_train100.csv` file five times to our neural network to train it. This means the **number of epoch** is equal to 5. We will also make sure the data is prepared as discussed before, being in the range of 0 to 1."
   ]
  },
  {
   "cell_type": "markdown",
   "id": "7398339d",
   "metadata": {},
   "source": [
    "Some useful terms in machine learning:\n",
    "\n",
    "#### Epoch  (number of epoch = e)\n",
    "\n",
    "Epoch is a term which is used in machine learning and indicates the number of passes of the entire training data set the machine learning algorithm (in our case ANN) has completed.\n",
    "\n",
    "In other words, epoch, is the number of times a learning algorithm sees the complete training data set.\n",
    "\n",
    "As the number of epochs increases, more number of times the weights are changed in the neural network and the result can go from **underfitting** to **optimized** and then **overfitting**. This means increasing the number of epoch is not a guarantee for the improvement of results.\n",
    "\n",
    "#### Batch (batch size = b)\n",
    "\n",
    "One epoch can have number of batches. So basically a batch size is the number of data point after the model gets updated.\n",
    "\n",
    "**The number of batches is different from batch size.** \n",
    "As an example, imagine you have 1000 training data points. If you divide the training data set to four parts, **the number of batches** is equal to 4 and the **batch size** is equal to 250.**\n",
    "\n",
    "#### Iteration (number of iterations = i)\n",
    "\n",
    "The number of batches required to complete one epoch.\n",
    "\n",
    "**An important rule to remember** : (training data set size) * e = i * b \n",
    "\n",
    "For the above example             :                1000      * 1 = 250 * 4 "
   ]
  },
  {
   "cell_type": "code",
   "execution_count": 12,
   "id": "e9c26da1",
   "metadata": {},
   "outputs": [],
   "source": [
    "# load the mnist training data CSV file into a list\n",
    "training_data_file = open(\"Week11_data_train100.csv\", 'r')\n",
    "training_data_list = training_data_file.readlines()\n",
    "training_data_file.close()\n",
    "\n",
    "# train the neural network\n",
    "\n",
    "# epochs is the number of times the training data set is used for training\n",
    "epochs = 5\n",
    "\n",
    "for e in range(epochs):\n",
    "    # go through all records in the training data set\n",
    "    for record in training_data_list:\n",
    "        # split the record by the ',' commas\n",
    "        all_values = record.split(',')\n",
    "        # scale and shift the inputs \n",
    "        inputs = (numpy.asfarray(all_values[1:]) / 255.0 * 0.99) + 0.01\n",
    "        # create the target output values (all 0.01, except the desired label which is 0.99)\n",
    "        targets = numpy.zeros(output_nodes) + 0.01\n",
    "        # all_values[0] is the target label for this record\n",
    "        targets[int(all_values[0])] = 0.99\n",
    "        n.train(inputs, targets)\n",
    "        pass\n",
    "    pass"
   ]
  },
  {
   "cell_type": "markdown",
   "id": "b845cea7",
   "metadata": {},
   "source": [
    "### Testing the ANN\n",
    "\n",
    "Now we have a trained ANN, but we have no idea if the training was successful. To test that, we use \"new\" data points we have saved in an other file (`Week11_data_test10.csv`) which contains 10 entries.\n",
    "\n",
    "So we will prepare the data similar to training, but now we query the network using the pixel, and compare the results with the expected results. \n",
    "We will print each result and also keep a list, so we can keep track of the results from ANN."
   ]
  },
  {
   "cell_type": "code",
   "execution_count": 13,
   "id": "0082e8f8",
   "metadata": {},
   "outputs": [
    {
     "name": "stdout",
     "output_type": "stream",
     "text": [
      "The number 7 was corrctly detected with a score of [0.73837967]\n",
      "The number 0 was incorrctly detected with a score of [0.27121099], was 2\n",
      "The number 1 was corrctly detected with a score of [0.84475493]\n",
      "The number 0 was corrctly detected with a score of [0.67595218]\n",
      "The number 4 was corrctly detected with a score of [0.77362552]\n",
      "The number 1 was corrctly detected with a score of [0.87979803]\n",
      "The number 4 was corrctly detected with a score of [0.39036262]\n",
      "The number 4 was incorrctly detected with a score of [0.3046091], was 9\n",
      "The number 4 was incorrctly detected with a score of [0.30080279], was 5\n",
      "The number 7 was incorrctly detected with a score of [0.4060017], was 9\n"
     ]
    }
   ],
   "source": [
    "# load the mnist test data CSV file into a list\n",
    "test_data_file = open(\"Week11_data_test10.csv\", 'r')\n",
    "test_data_list = test_data_file.readlines()\n",
    "test_data_file.close()\n",
    "\n",
    "# scorecard for how well the network performs, initially empty\n",
    "scorecard = []\n",
    "\n",
    "# go through all the records in the test data set\n",
    "for record in test_data_list:\n",
    "    # split the record by the ',' commas\n",
    "    all_values = record.split(',')\n",
    "    # correct answer is first value\n",
    "    correct_label = int(all_values[0])\n",
    "    # scale and shift the inputs representing the pixels\n",
    "    inputs = (numpy.asfarray(all_values[1:]) / 255.0 * 0.99) + 0.01\n",
    "    # query the network\n",
    "    outputs = n.query(inputs)\n",
    "    #COMMENT print('outputs after query are:\\n',outputs)\n",
    "    # the index of the highest value corresponds to the label\n",
    "    # numpy.argmax() returns the indices of the maximum values along an axis\n",
    "    label = numpy.argmax(outputs)\n",
    "    # append correct or incorrect to list\n",
    "    if (label == correct_label):\n",
    "        print(f\"The number {label} was corrctly detected with a score of {outputs[label]}\")\n",
    "        # network's answer matches correct answer, add 1 to scorecard\n",
    "        scorecard.append(1)\n",
    "    else:\n",
    "        print(f\"The number {label} was incorrctly detected with a score of {outputs[label]}, was {correct_label}\")\n",
    "        # network's answer doesn't match correct answer, add 0 to scorecard\n",
    "        scorecard.append(0)\n",
    "        pass\n",
    "    \n",
    "    pass\n",
    "\n"
   ]
  },
  {
   "cell_type": "markdown",
   "id": "7f8c8eb8",
   "metadata": {},
   "source": [
    "Delete the comment in the previous call on the following line and run it again. Describe what you see as the output.\n",
    "\n",
    "```python\n",
    "#COMMENT print('outputs after query are:\\n',outputs)\n",
    "```\n",
    "\n"
   ]
  },
  {
   "cell_type": "markdown",
   "id": "8bcf32cc",
   "metadata": {},
   "source": [
    "So we see our ANN is working, but the performance can be improved. The performance (the \n",
    "fraction of correct answers) was: "
   ]
  },
  {
   "cell_type": "code",
   "execution_count": 14,
   "id": "dc937d7d",
   "metadata": {},
   "outputs": [
    {
     "name": "stdout",
     "output_type": "stream",
     "text": [
      "6 10\n",
      "performance =  0.6\n"
     ]
    }
   ],
   "source": [
    "# calculate the performance score, the fraction of correct answers\n",
    "scorecard_array = numpy.asarray(scorecard)\n",
    "print(scorecard_array.sum(),scorecard_array.size)\n",
    "print (\"performance = \", scorecard_array.sum() / scorecard_array.size)"
   ]
  }
 ],
 "metadata": {
  "kernelspec": {
   "display_name": "Python 3 (ipykernel)",
   "language": "python",
   "name": "python3"
  },
  "language_info": {
   "codemirror_mode": {
    "name": "ipython",
    "version": 3
   },
   "file_extension": ".py",
   "mimetype": "text/x-python",
   "name": "python",
   "nbconvert_exporter": "python",
   "pygments_lexer": "ipython3",
   "version": "3.7.3"
  }
 },
 "nbformat": 4,
 "nbformat_minor": 5
}
